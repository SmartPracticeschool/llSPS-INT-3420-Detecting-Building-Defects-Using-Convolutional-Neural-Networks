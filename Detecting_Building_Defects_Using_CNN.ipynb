{
  "nbformat": 4,
  "nbformat_minor": 0,
  "metadata": {
    "colab": {
      "name": "Detecting Building Defects Using CNN.ipynb",
      "provenance": [],
      "collapsed_sections": []
    },
    "kernelspec": {
      "name": "python3",
      "display_name": "Python 3"
    }
  },
  "cells": [
    {
      "cell_type": "markdown",
      "metadata": {
        "id": "vDPYPev3qUOV",
        "colab_type": "text"
      },
      "source": [
        "**CNN FROM SCRATCH**"
      ]
    },
    {
      "cell_type": "markdown",
      "metadata": {
        "id": "mXXNyioMJFaS",
        "colab_type": "text"
      },
      "source": [
        "Importing the Libraries"
      ]
    },
    {
      "cell_type": "code",
      "metadata": {
        "id": "HP5ZCiG5qGQY",
        "colab_type": "code",
        "colab": {}
      },
      "source": [
        "import keras\n",
        "from keras.models import Sequential\n",
        "from keras.layers import Dense\n",
        "from keras.layers import Conv2D\n",
        "from keras.layers import MaxPooling2D\n",
        "from keras.layers import Flatten"
      ],
      "execution_count": 13,
      "outputs": []
    },
    {
      "cell_type": "markdown",
      "metadata": {
        "id": "BIYeZzNKqow-",
        "colab_type": "text"
      },
      "source": [
        "**Initializing the Model**"
      ]
    },
    {
      "cell_type": "code",
      "metadata": {
        "id": "MOjRMRCoqir8",
        "colab_type": "code",
        "colab": {}
      },
      "source": [
        "model=Sequential()"
      ],
      "execution_count": 14,
      "outputs": []
    },
    {
      "cell_type": "markdown",
      "metadata": {
        "id": "HV1O4N8iJM0G",
        "colab_type": "text"
      },
      "source": [
        "**Adding the layers**"
      ]
    },
    {
      "cell_type": "code",
      "metadata": {
        "id": "Q7jlXzHaqtmV",
        "colab_type": "code",
        "colab": {
          "base_uri": "https://localhost:8080/",
          "height": 70
        },
        "outputId": "7599bf98-43e9-4093-8b09-e2e32f159cd7"
      },
      "source": [
        "model.add(Conv2D(32,3,3,input_shape=(224,224,3),activation='relu'))"
      ],
      "execution_count": 15,
      "outputs": [
        {
          "output_type": "stream",
          "text": [
            "/usr/local/lib/python3.6/dist-packages/ipykernel_launcher.py:1: UserWarning: Update your `Conv2D` call to the Keras 2 API: `Conv2D(32, (3, 3), input_shape=(224, 224,..., activation=\"relu\")`\n",
            "  \"\"\"Entry point for launching an IPython kernel.\n"
          ],
          "name": "stderr"
        }
      ]
    },
    {
      "cell_type": "code",
      "metadata": {
        "id": "DwGfKW4Vq2ya",
        "colab_type": "code",
        "colab": {}
      },
      "source": [
        "model.add(MaxPooling2D(pool_size=(2,2)))"
      ],
      "execution_count": 16,
      "outputs": []
    },
    {
      "cell_type": "code",
      "metadata": {
        "id": "0m6-hGyUq7NP",
        "colab_type": "code",
        "colab": {}
      },
      "source": [
        "model.add(Flatten())"
      ],
      "execution_count": 17,
      "outputs": []
    },
    {
      "cell_type": "code",
      "metadata": {
        "id": "NAdqMhPYq_DF",
        "colab_type": "code",
        "colab": {
          "base_uri": "https://localhost:8080/",
          "height": 252
        },
        "outputId": "5b1bf22b-c12c-4455-ed0d-db590e1ecc3a"
      },
      "source": [
        "model.summary()"
      ],
      "execution_count": 18,
      "outputs": [
        {
          "output_type": "stream",
          "text": [
            "Model: \"sequential_1\"\n",
            "_________________________________________________________________\n",
            "Layer (type)                 Output Shape              Param #   \n",
            "=================================================================\n",
            "conv2d_1 (Conv2D)            (None, 222, 222, 32)      896       \n",
            "_________________________________________________________________\n",
            "max_pooling2d_1 (MaxPooling2 (None, 111, 111, 32)      0         \n",
            "_________________________________________________________________\n",
            "flatten_1 (Flatten)          (None, 394272)            0         \n",
            "=================================================================\n",
            "Total params: 896\n",
            "Trainable params: 896\n",
            "Non-trainable params: 0\n",
            "_________________________________________________________________\n"
          ],
          "name": "stdout"
        }
      ]
    },
    {
      "cell_type": "code",
      "metadata": {
        "id": "e59jiXOTrAIE",
        "colab_type": "code",
        "colab": {
          "base_uri": "https://localhost:8080/",
          "height": 70
        },
        "outputId": "1666421e-5308-4225-edf9-8d912cde2d5b"
      },
      "source": [
        "model.add(Dense(output_dim=224,activation='relu',init=\"random_uniform\"))"
      ],
      "execution_count": 19,
      "outputs": [
        {
          "output_type": "stream",
          "text": [
            "/usr/local/lib/python3.6/dist-packages/ipykernel_launcher.py:1: UserWarning: Update your `Dense` call to the Keras 2 API: `Dense(activation=\"relu\", units=224, kernel_initializer=\"random_uniform\")`\n",
            "  \"\"\"Entry point for launching an IPython kernel.\n"
          ],
          "name": "stderr"
        }
      ]
    },
    {
      "cell_type": "code",
      "metadata": {
        "id": "3t3b4KmmrIL6",
        "colab_type": "code",
        "colab": {
          "base_uri": "https://localhost:8080/",
          "height": 70
        },
        "outputId": "ea8e8dcd-3319-4838-e55f-b9f00d8dfd9a"
      },
      "source": [
        "model.add(Dense(output_dim=2,activation='softmax',init='random_uniform'))"
      ],
      "execution_count": 20,
      "outputs": [
        {
          "output_type": "stream",
          "text": [
            "/usr/local/lib/python3.6/dist-packages/ipykernel_launcher.py:1: UserWarning: Update your `Dense` call to the Keras 2 API: `Dense(activation=\"softmax\", units=2, kernel_initializer=\"random_uniform\")`\n",
            "  \"\"\"Entry point for launching an IPython kernel.\n"
          ],
          "name": "stderr"
        }
      ]
    },
    {
      "cell_type": "code",
      "metadata": {
        "id": "q0yzckASrWI_",
        "colab_type": "code",
        "colab": {}
      },
      "source": [
        "model.compile(optimizer='adam',loss='categorical_crossentropy',metrics=['accuracy'])"
      ],
      "execution_count": 21,
      "outputs": []
    },
    {
      "cell_type": "code",
      "metadata": {
        "id": "9b4oggcGrcGb",
        "colab_type": "code",
        "colab": {
          "base_uri": "https://localhost:8080/",
          "height": 319
        },
        "outputId": "27264c38-a21f-4c2a-83cf-474659adbddd"
      },
      "source": [
        "model.summary()"
      ],
      "execution_count": 22,
      "outputs": [
        {
          "output_type": "stream",
          "text": [
            "Model: \"sequential_1\"\n",
            "_________________________________________________________________\n",
            "Layer (type)                 Output Shape              Param #   \n",
            "=================================================================\n",
            "conv2d_1 (Conv2D)            (None, 222, 222, 32)      896       \n",
            "_________________________________________________________________\n",
            "max_pooling2d_1 (MaxPooling2 (None, 111, 111, 32)      0         \n",
            "_________________________________________________________________\n",
            "flatten_1 (Flatten)          (None, 394272)            0         \n",
            "_________________________________________________________________\n",
            "dense_1 (Dense)              (None, 224)               88317152  \n",
            "_________________________________________________________________\n",
            "dense_2 (Dense)              (None, 2)                 450       \n",
            "=================================================================\n",
            "Total params: 88,318,498\n",
            "Trainable params: 88,318,498\n",
            "Non-trainable params: 0\n",
            "_________________________________________________________________\n"
          ],
          "name": "stdout"
        }
      ]
    },
    {
      "cell_type": "markdown",
      "metadata": {
        "id": "zThUCoymrkWZ",
        "colab_type": "text"
      },
      "source": [
        "**IMPORTING THE DATASET**"
      ]
    },
    {
      "cell_type": "code",
      "metadata": {
        "id": "3YXm-Ot-rdbc",
        "colab_type": "code",
        "colab": {}
      },
      "source": [
        "#Dataset uploaded through Drive\n",
        "from google.colab import drive\n",
        "drive.mount('/content/drive/')"
      ],
      "execution_count": 2,
      "outputs": []
    },
    {
      "cell_type": "code",
      "metadata": {
        "id": "i2Gwg4I2r0Kf",
        "colab_type": "code",
        "colab": {}
      },
      "source": [
        "train_path = \"/content/drive/My Drive/building dat/train\"\n",
        "test_path = \"/content/drive/My Drive/building dat/test\""
      ],
      "execution_count": 24,
      "outputs": []
    },
    {
      "cell_type": "markdown",
      "metadata": {
        "id": "tx0Avbt9J2lD",
        "colab_type": "text"
      },
      "source": [
        "**Preprocessing the Image Data**"
      ]
    },
    {
      "cell_type": "code",
      "metadata": {
        "id": "1jf9QjdssHzY",
        "colab_type": "code",
        "colab": {}
      },
      "source": [
        "from keras.preprocessing.image import ImageDataGenerator\n",
        "train_data = ImageDataGenerator(rescale = 1./255,\n",
        "                                shear_range = 0.2,\n",
        "                                zoom_range = 0.2,\n",
        "                                horizontal_flip = True)"
      ],
      "execution_count": 25,
      "outputs": []
    },
    {
      "cell_type": "code",
      "metadata": {
        "id": "f44z5fDosO4T",
        "colab_type": "code",
        "colab": {}
      },
      "source": [
        "test_datagen = ImageDataGenerator(rescale = 1./255)"
      ],
      "execution_count": 26,
      "outputs": []
    },
    {
      "cell_type": "code",
      "metadata": {
        "id": "EGCx5Y71sbMG",
        "colab_type": "code",
        "colab": {
          "base_uri": "https://localhost:8080/",
          "height": 50
        },
        "outputId": "e58cdc9c-f2c1-4457-8b3b-0268a5657010"
      },
      "source": [
        "training_dataset = train_data.flow_from_directory(\"/content/drive/My Drive/building dat/train\", target_size=(224,224),batch_size=32,\n",
        "                                                  class_mode = 'categorical')\n",
        "\n",
        "test_dataset = train_data.flow_from_directory(\"/content/drive/My Drive/building dat/test\", target_size=(224,224),batch_size=32,\n",
        "                                                  class_mode = 'categorical')"
      ],
      "execution_count": 27,
      "outputs": [
        {
          "output_type": "stream",
          "text": [
            "Found 350 images belonging to 2 classes.\n",
            "Found 150 images belonging to 2 classes.\n"
          ],
          "name": "stdout"
        }
      ]
    },
    {
      "cell_type": "code",
      "metadata": {
        "id": "1CUuC7C5sg4a",
        "colab_type": "code",
        "colab": {
          "base_uri": "https://localhost:8080/",
          "height": 34
        },
        "outputId": "329fa250-df92-4477-a91e-bb796d62d9d3"
      },
      "source": [
        "print(training_dataset.class_indices)"
      ],
      "execution_count": 28,
      "outputs": [
        {
          "output_type": "stream",
          "text": [
            "{'bad': 0, 'good': 1}\n"
          ],
          "name": "stdout"
        }
      ]
    },
    {
      "cell_type": "code",
      "metadata": {
        "id": "P2Yly-hNsr7J",
        "colab_type": "code",
        "colab": {
          "base_uri": "https://localhost:8080/",
          "height": 34
        },
        "outputId": "b3db6304-0dc9-4737-8b65-03bf66eb0438"
      },
      "source": [
        "print(test_dataset.class_indices)"
      ],
      "execution_count": 29,
      "outputs": [
        {
          "output_type": "stream",
          "text": [
            "{'bad': 0, 'good': 1}\n"
          ],
          "name": "stdout"
        }
      ]
    },
    {
      "cell_type": "markdown",
      "metadata": {
        "id": "LdXGbvy0s8l4",
        "colab_type": "text"
      },
      "source": [
        "**Train and Test the Model**"
      ]
    },
    {
      "cell_type": "code",
      "metadata": {
        "id": "QH8Zw26Csz5B",
        "colab_type": "code",
        "colab": {
          "base_uri": "https://localhost:8080/",
          "height": 255
        },
        "outputId": "b6d7df5a-88f7-4ffc-8a8b-71bad1f45ba2"
      },
      "source": [
        "model.fit_generator(training_dataset,\n",
        "                    validation_data = test_dataset,\n",
        "                    epochs = 5,\n",
        "                    steps_per_epoch = len(training_dataset),\n",
        "                    validation_steps = len(test_dataset))"
      ],
      "execution_count": 30,
      "outputs": [
        {
          "output_type": "stream",
          "text": [
            "Epoch 1/5\n",
            " 6/11 [===============>..............] - ETA: 1:39 - loss: 13.5417 - accuracy: 0.5312"
          ],
          "name": "stdout"
        },
        {
          "output_type": "stream",
          "text": [
            "/usr/local/lib/python3.6/dist-packages/keras/utils/data_utils.py:616: UserWarning: The input 8 could not be retrieved. It could be because a worker has died.\n",
            "  UserWarning)\n"
          ],
          "name": "stderr"
        },
        {
          "output_type": "stream",
          "text": [
            "11/11 [==============================] - 279s 25s/step - loss: 11.7601 - accuracy: 0.5171 - val_loss: 6.5229 - val_accuracy: 0.5000\n",
            "Epoch 2/5\n",
            "11/11 [==============================] - 31s 3s/step - loss: 1.9248 - accuracy: 0.5971 - val_loss: 1.0511 - val_accuracy: 0.6000\n",
            "Epoch 3/5\n",
            "11/11 [==============================] - 31s 3s/step - loss: 0.6433 - accuracy: 0.7057 - val_loss: 0.7344 - val_accuracy: 0.7000\n",
            "Epoch 4/5\n",
            "11/11 [==============================] - 31s 3s/step - loss: 0.5552 - accuracy: 0.7457 - val_loss: 0.5368 - val_accuracy: 0.7200\n",
            "Epoch 5/5\n",
            "11/11 [==============================] - 31s 3s/step - loss: 0.5243 - accuracy: 0.7629 - val_loss: 0.4775 - val_accuracy: 0.7200\n"
          ],
          "name": "stdout"
        },
        {
          "output_type": "execute_result",
          "data": {
            "text/plain": [
              "<keras.callbacks.callbacks.History at 0x7f783c710fd0>"
            ]
          },
          "metadata": {
            "tags": []
          },
          "execution_count": 30
        }
      ]
    },
    {
      "cell_type": "markdown",
      "metadata": {
        "id": "I67oO0X-KE-Y",
        "colab_type": "text"
      },
      "source": [
        "**OPTIMIZATION**"
      ]
    },
    {
      "cell_type": "code",
      "metadata": {
        "id": "5LVdKrbvtSqg",
        "colab_type": "code",
        "colab": {}
      },
      "source": [
        "cnn1 = Sequential([\n",
        "    Conv2D(16, kernel_size=(3, 3), activation='relu',padding='same',input_shape=(224,224,3)),\n",
        "    Conv2D(16, kernel_size=(3, 3), activation='relu',padding='same'),\n",
        "    MaxPooling2D(pool_size=(2, 2),strides=2),\n",
        "    Conv2D(32, kernel_size=(3, 3), activation='relu'),\n",
        "    Conv2D(32, kernel_size=(3, 3), activation='relu'),\n",
        "    MaxPooling2D(pool_size=(2, 2),strides=2),\n",
        "    Flatten(),\n",
        "    Dense(512, activation='relu'),\n",
        "    Dense(10, activation='softmax')\n",
        "])"
      ],
      "execution_count": 31,
      "outputs": []
    },
    {
      "cell_type": "code",
      "metadata": {
        "id": "RZWf_K2aubHf",
        "colab_type": "code",
        "colab": {
          "base_uri": "https://localhost:8080/",
          "height": 454
        },
        "outputId": "12c47e62-afc1-4d60-969d-fc2487e8b649"
      },
      "source": [
        "cnn1.summary()"
      ],
      "execution_count": 32,
      "outputs": [
        {
          "output_type": "stream",
          "text": [
            "Model: \"sequential_2\"\n",
            "_________________________________________________________________\n",
            "Layer (type)                 Output Shape              Param #   \n",
            "=================================================================\n",
            "conv2d_2 (Conv2D)            (None, 224, 224, 16)      448       \n",
            "_________________________________________________________________\n",
            "conv2d_3 (Conv2D)            (None, 224, 224, 16)      2320      \n",
            "_________________________________________________________________\n",
            "max_pooling2d_2 (MaxPooling2 (None, 112, 112, 16)      0         \n",
            "_________________________________________________________________\n",
            "conv2d_4 (Conv2D)            (None, 110, 110, 32)      4640      \n",
            "_________________________________________________________________\n",
            "conv2d_5 (Conv2D)            (None, 108, 108, 32)      9248      \n",
            "_________________________________________________________________\n",
            "max_pooling2d_3 (MaxPooling2 (None, 54, 54, 32)        0         \n",
            "_________________________________________________________________\n",
            "flatten_2 (Flatten)          (None, 93312)             0         \n",
            "_________________________________________________________________\n",
            "dense_3 (Dense)              (None, 512)               47776256  \n",
            "_________________________________________________________________\n",
            "dense_4 (Dense)              (None, 10)                5130      \n",
            "=================================================================\n",
            "Total params: 47,798,042\n",
            "Trainable params: 47,798,042\n",
            "Non-trainable params: 0\n",
            "_________________________________________________________________\n"
          ],
          "name": "stdout"
        }
      ]
    },
    {
      "cell_type": "code",
      "metadata": {
        "id": "L_mkZ3jvuewi",
        "colab_type": "code",
        "colab": {
          "base_uri": "https://localhost:8080/",
          "height": 202
        },
        "outputId": "857e425b-9823-434e-f5dd-b427680a5f27"
      },
      "source": [
        "model.fit_generator(training_dataset,\n",
        "                    validation_data = test_dataset,\n",
        "                    epochs = 5,\n",
        "                    steps_per_epoch = len(training_dataset),\n",
        "                    validation_steps = len(test_dataset))"
      ],
      "execution_count": 33,
      "outputs": [
        {
          "output_type": "stream",
          "text": [
            "Epoch 1/5\n",
            "11/11 [==============================] - 33s 3s/step - loss: 0.4982 - accuracy: 0.7943 - val_loss: 0.4041 - val_accuracy: 0.7400\n",
            "Epoch 2/5\n",
            "11/11 [==============================] - 31s 3s/step - loss: 0.4840 - accuracy: 0.8000 - val_loss: 0.4345 - val_accuracy: 0.7867\n",
            "Epoch 3/5\n",
            "11/11 [==============================] - 30s 3s/step - loss: 0.4670 - accuracy: 0.8000 - val_loss: 0.5933 - val_accuracy: 0.7867\n",
            "Epoch 4/5\n",
            "11/11 [==============================] - 31s 3s/step - loss: 0.4376 - accuracy: 0.8343 - val_loss: 1.0339 - val_accuracy: 0.7667\n",
            "Epoch 5/5\n",
            "11/11 [==============================] - 31s 3s/step - loss: 0.3934 - accuracy: 0.8486 - val_loss: 0.6265 - val_accuracy: 0.7800\n"
          ],
          "name": "stdout"
        },
        {
          "output_type": "execute_result",
          "data": {
            "text/plain": [
              "<keras.callbacks.callbacks.History at 0x7f783c6c88d0>"
            ]
          },
          "metadata": {
            "tags": []
          },
          "execution_count": 33
        }
      ]
    },
    {
      "cell_type": "markdown",
      "metadata": {
        "id": "T3FdXfxOKMH5",
        "colab_type": "text"
      },
      "source": [
        "EVALUATION"
      ]
    },
    {
      "cell_type": "code",
      "metadata": {
        "id": "fGhulPk6uqDz",
        "colab_type": "code",
        "colab": {
          "base_uri": "https://localhost:8080/",
          "height": 34
        },
        "outputId": "0cc26b9c-030f-411a-d491-53aa4ae6b32d"
      },
      "source": [
        "model.evaluate_generator(test_dataset)"
      ],
      "execution_count": 44,
      "outputs": [
        {
          "output_type": "execute_result",
          "data": {
            "text/plain": [
              "[0.526483952999115, 0.7799999713897705]"
            ]
          },
          "metadata": {
            "tags": []
          },
          "execution_count": 44
        }
      ]
    },
    {
      "cell_type": "markdown",
      "metadata": {
        "id": "_LAdG8h6y9Mi",
        "colab_type": "text"
      },
      "source": [
        "**PREDICTION**"
      ]
    },
    {
      "cell_type": "code",
      "metadata": {
        "id": "pfG77LA8vGUh",
        "colab_type": "code",
        "colab": {}
      },
      "source": [
        "import cv2\n",
        "from skimage.transform import resize\n",
        "import numpy as np\n",
        "from tensorflow.keras.models import load_model\n",
        "from keras.preprocessing import image\n",
        "def predict(path):\n",
        "  img = image.load_img(path, target_size=(224,224))\n",
        "  x = image.img_to_array(img)\n",
        "  x = np.expand_dims(x, axis = 0)\n",
        "  #img_data = preprocess_input(x)\n",
        "  classes = model.predict(x)\n",
        "  #print(classes)\n",
        "  res = model.predict_classes(x)\n",
        "  print(res)"
      ],
      "execution_count": null,
      "outputs": []
    },
    {
      "cell_type": "markdown",
      "metadata": {
        "id": "RFPgOc4kM1sV",
        "colab_type": "text"
      },
      "source": [
        "SAVING THE MODEL"
      ]
    },
    {
      "cell_type": "code",
      "metadata": {
        "id": "DxWqGDdIMlXu",
        "colab_type": "code",
        "colab": {}
      },
      "source": [
        "model.save('Detectdefects.h5')"
      ],
      "execution_count": null,
      "outputs": []
    },
    {
      "cell_type": "markdown",
      "metadata": {
        "id": "SjHw_5V1zMhP",
        "colab_type": "text"
      },
      "source": [
        "**MODEL USING Pre-Trained CNN (VGG16)**\n",
        "To remove data dependency and to improve the accuracy of the model, We created a model using VGG16 (Transfer Learning Concept)"
      ]
    },
    {
      "cell_type": "code",
      "metadata": {
        "id": "2iJXgtv9wrmO",
        "colab_type": "code",
        "colab": {}
      },
      "source": [
        "from keras.layers import Input, Lambda, Dense, Flatten\n",
        "from keras.models import Model\n",
        "from keras.applications.vgg16 import VGG16\n",
        "from keras.applications.vgg16 import preprocess_input\n",
        "from keras.preprocessing import image\n",
        "from glob import glob"
      ],
      "execution_count": 34,
      "outputs": []
    },
    {
      "cell_type": "code",
      "metadata": {
        "id": "8eLYKMlJzkcJ",
        "colab_type": "code",
        "colab": {
          "base_uri": "https://localhost:8080/",
          "height": 50
        },
        "outputId": "8c92b30a-8b9e-4ea0-efe0-11e1f7db58f6"
      },
      "source": [
        "IMAGE_SIZE = [224,224]\n",
        "vgg = VGG16(input_shape = IMAGE_SIZE + [3], weights = 'imagenet', include_top = False)"
      ],
      "execution_count": 35,
      "outputs": [
        {
          "output_type": "stream",
          "text": [
            "Downloading data from https://github.com/fchollet/deep-learning-models/releases/download/v0.1/vgg16_weights_tf_dim_ordering_tf_kernels_notop.h5\n",
            "58892288/58889256 [==============================] - 5s 0us/step\n"
          ],
          "name": "stdout"
        }
      ]
    },
    {
      "cell_type": "code",
      "metadata": {
        "id": "rRPeFEKRzomI",
        "colab_type": "code",
        "colab": {}
      },
      "source": [
        "for layer in vgg.layers:\n",
        "  layer.trainable = False"
      ],
      "execution_count": 36,
      "outputs": []
    },
    {
      "cell_type": "code",
      "metadata": {
        "id": "Yd7NHs1QztZh",
        "colab_type": "code",
        "colab": {}
      },
      "source": [
        "x = Flatten()(vgg.output)\n",
        "prediction = Dense(2, activation= 'softmax')(x)"
      ],
      "execution_count": 37,
      "outputs": []
    },
    {
      "cell_type": "code",
      "metadata": {
        "id": "2qWn_L-6zyow",
        "colab_type": "code",
        "colab": {}
      },
      "source": [
        "modelvgg = Model(inputs = vgg.input, outputs = prediction)"
      ],
      "execution_count": 38,
      "outputs": []
    },
    {
      "cell_type": "code",
      "metadata": {
        "id": "Vn3iiHnY0JDs",
        "colab_type": "code",
        "colab": {
          "base_uri": "https://localhost:8080/",
          "height": 857
        },
        "outputId": "0af6ced5-0505-4fe6-d676-d4b072b31acc"
      },
      "source": [
        "modelvgg.summary()"
      ],
      "execution_count": 39,
      "outputs": [
        {
          "output_type": "stream",
          "text": [
            "Model: \"model_1\"\n",
            "_________________________________________________________________\n",
            "Layer (type)                 Output Shape              Param #   \n",
            "=================================================================\n",
            "input_1 (InputLayer)         (None, 224, 224, 3)       0         \n",
            "_________________________________________________________________\n",
            "block1_conv1 (Conv2D)        (None, 224, 224, 64)      1792      \n",
            "_________________________________________________________________\n",
            "block1_conv2 (Conv2D)        (None, 224, 224, 64)      36928     \n",
            "_________________________________________________________________\n",
            "block1_pool (MaxPooling2D)   (None, 112, 112, 64)      0         \n",
            "_________________________________________________________________\n",
            "block2_conv1 (Conv2D)        (None, 112, 112, 128)     73856     \n",
            "_________________________________________________________________\n",
            "block2_conv2 (Conv2D)        (None, 112, 112, 128)     147584    \n",
            "_________________________________________________________________\n",
            "block2_pool (MaxPooling2D)   (None, 56, 56, 128)       0         \n",
            "_________________________________________________________________\n",
            "block3_conv1 (Conv2D)        (None, 56, 56, 256)       295168    \n",
            "_________________________________________________________________\n",
            "block3_conv2 (Conv2D)        (None, 56, 56, 256)       590080    \n",
            "_________________________________________________________________\n",
            "block3_conv3 (Conv2D)        (None, 56, 56, 256)       590080    \n",
            "_________________________________________________________________\n",
            "block3_pool (MaxPooling2D)   (None, 28, 28, 256)       0         \n",
            "_________________________________________________________________\n",
            "block4_conv1 (Conv2D)        (None, 28, 28, 512)       1180160   \n",
            "_________________________________________________________________\n",
            "block4_conv2 (Conv2D)        (None, 28, 28, 512)       2359808   \n",
            "_________________________________________________________________\n",
            "block4_conv3 (Conv2D)        (None, 28, 28, 512)       2359808   \n",
            "_________________________________________________________________\n",
            "block4_pool (MaxPooling2D)   (None, 14, 14, 512)       0         \n",
            "_________________________________________________________________\n",
            "block5_conv1 (Conv2D)        (None, 14, 14, 512)       2359808   \n",
            "_________________________________________________________________\n",
            "block5_conv2 (Conv2D)        (None, 14, 14, 512)       2359808   \n",
            "_________________________________________________________________\n",
            "block5_conv3 (Conv2D)        (None, 14, 14, 512)       2359808   \n",
            "_________________________________________________________________\n",
            "block5_pool (MaxPooling2D)   (None, 7, 7, 512)         0         \n",
            "_________________________________________________________________\n",
            "flatten_3 (Flatten)          (None, 25088)             0         \n",
            "_________________________________________________________________\n",
            "dense_5 (Dense)              (None, 2)                 50178     \n",
            "=================================================================\n",
            "Total params: 14,764,866\n",
            "Trainable params: 50,178\n",
            "Non-trainable params: 14,714,688\n",
            "_________________________________________________________________\n"
          ],
          "name": "stdout"
        }
      ]
    },
    {
      "cell_type": "code",
      "metadata": {
        "id": "L94gTbNyz62_",
        "colab_type": "code",
        "colab": {}
      },
      "source": [
        "modelvgg.compile(\n",
        "    loss = 'categorical_crossentropy',\n",
        "    optimizer = 'adam',\n",
        "    metrics = ['accuracy']\n",
        ")"
      ],
      "execution_count": 40,
      "outputs": []
    },
    {
      "cell_type": "markdown",
      "metadata": {
        "id": "1smBzargK5_8",
        "colab_type": "text"
      },
      "source": [
        "TRAINING THE MODEL"
      ]
    },
    {
      "cell_type": "code",
      "metadata": {
        "id": "cV_c1s1A0MR0",
        "colab_type": "code",
        "colab": {
          "base_uri": "https://localhost:8080/",
          "height": 202
        },
        "outputId": "dbcab68e-1fbe-426f-a718-91afdcbe284f"
      },
      "source": [
        "modelvgg.fit_generator(\n",
        "    training_dataset,\n",
        "    validation_data = test_dataset,\n",
        "    epochs = 5,\n",
        "    steps_per_epoch = len(training_dataset),\n",
        "    validation_steps = len(test_dataset)\n",
        ")"
      ],
      "execution_count": 41,
      "outputs": [
        {
          "output_type": "stream",
          "text": [
            "Epoch 1/5\n",
            "11/11 [==============================] - 266s 24s/step - loss: 0.4855 - accuracy: 0.7686 - val_loss: 0.5086 - val_accuracy: 0.8867\n",
            "Epoch 2/5\n",
            "11/11 [==============================] - 255s 23s/step - loss: 0.2358 - accuracy: 0.9000 - val_loss: 0.1314 - val_accuracy: 0.9200\n",
            "Epoch 3/5\n",
            "11/11 [==============================] - 258s 23s/step - loss: 0.1480 - accuracy: 0.9371 - val_loss: 0.0593 - val_accuracy: 0.9267\n",
            "Epoch 4/5\n",
            "11/11 [==============================] - 255s 23s/step - loss: 0.0824 - accuracy: 0.9829 - val_loss: 0.2319 - val_accuracy: 0.9533\n",
            "Epoch 5/5\n",
            "11/11 [==============================] - 257s 23s/step - loss: 0.0667 - accuracy: 0.9829 - val_loss: 0.0583 - val_accuracy: 0.9267\n"
          ],
          "name": "stdout"
        },
        {
          "output_type": "execute_result",
          "data": {
            "text/plain": [
              "<keras.callbacks.callbacks.History at 0x7f7835f4ce80>"
            ]
          },
          "metadata": {
            "tags": []
          },
          "execution_count": 41
        }
      ]
    },
    {
      "cell_type": "code",
      "metadata": {
        "id": "YM_PJr9X0Q68",
        "colab_type": "code",
        "colab": {
          "base_uri": "https://localhost:8080/",
          "height": 34
        },
        "outputId": "22d94a75-6c35-4655-d366-28b79c76f301"
      },
      "source": [
        "modelvgg.evaluate_generator(test_dataset)"
      ],
      "execution_count": 42,
      "outputs": [
        {
          "output_type": "execute_result",
          "data": {
            "text/plain": [
              "[0.1364930421113968, 0.9466666579246521]"
            ]
          },
          "metadata": {
            "tags": []
          },
          "execution_count": 42
        }
      ]
    },
    {
      "cell_type": "markdown",
      "metadata": {
        "id": "8iWPi5qLLP2D",
        "colab_type": "text"
      },
      "source": [
        "Prediction"
      ]
    },
    {
      "cell_type": "code",
      "metadata": {
        "id": "0wn--fsQ5nz4",
        "colab_type": "code",
        "colab": {}
      },
      "source": [
        "import cv2\n",
        "from skimage.transform import resize\n",
        "import numpy as np\n",
        "from tensorflow.keras.models import load_model\n",
        "from keras.preprocessing import image\n",
        "def predictvgg(path):\n",
        "  img = image.load_img(path, target_size=(224,224))\n",
        "  x = image.img_to_array(img)\n",
        "  x = np.expand_dims(x, axis = 0)\n",
        "  img_data = preprocess_input(x)\n",
        "  classes = model.predict(img_data)\n",
        "  if classes[0][0]>classes[0][1]:\n",
        "    print('Defective')\n",
        "  else:\n",
        "    print('Not Defective')"
      ],
      "execution_count": 43,
      "outputs": []
    },
    {
      "cell_type": "markdown",
      "metadata": {
        "id": "nx58xz_KNJly",
        "colab_type": "text"
      },
      "source": [
        "Saving the VGG Model"
      ]
    },
    {
      "cell_type": "code",
      "metadata": {
        "id": "NWezHQCG6HcN",
        "colab_type": "code",
        "colab": {}
      },
      "source": [
        "modelvgg.save('DetectdefectsVGG.h5')"
      ],
      "execution_count": null,
      "outputs": []
    }
  ]
}