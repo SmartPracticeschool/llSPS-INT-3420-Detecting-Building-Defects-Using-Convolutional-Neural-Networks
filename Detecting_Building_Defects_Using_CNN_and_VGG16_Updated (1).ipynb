{
  "nbformat": 4,
  "nbformat_minor": 0,
  "metadata": {
    "colab": {
      "name": "Detecting Building Defects Using CNN and VGG16 Updated.ipynb",
      "provenance": [],
      "collapsed_sections": [],
      "toc_visible": true
    },
    "kernelspec": {
      "name": "python3",
      "display_name": "Python 3"
    }
  },
  "cells": [
    {
      "cell_type": "markdown",
      "metadata": {
        "id": "vDPYPev3qUOV",
        "colab_type": "text"
      },
      "source": [
        "**CNN FROM SCRATCH**"
      ]
    },
    {
      "cell_type": "markdown",
      "metadata": {
        "id": "mXXNyioMJFaS",
        "colab_type": "text"
      },
      "source": [
        "Importing the Libraries"
      ]
    },
    {
      "cell_type": "code",
      "metadata": {
        "id": "HP5ZCiG5qGQY",
        "colab_type": "code",
        "colab": {}
      },
      "source": [
        "import keras\n",
        "from keras.models import Sequential\n",
        "from keras.layers import Dense\n",
        "from keras.layers import Conv2D\n",
        "from keras.layers import MaxPooling2D\n",
        "from keras.layers import Flatten"
      ],
      "execution_count": 4,
      "outputs": []
    },
    {
      "cell_type": "markdown",
      "metadata": {
        "id": "BIYeZzNKqow-",
        "colab_type": "text"
      },
      "source": [
        "**Initializing the Model**"
      ]
    },
    {
      "cell_type": "code",
      "metadata": {
        "id": "MOjRMRCoqir8",
        "colab_type": "code",
        "colab": {}
      },
      "source": [
        "model=Sequential()"
      ],
      "execution_count": 42,
      "outputs": []
    },
    {
      "cell_type": "markdown",
      "metadata": {
        "id": "HV1O4N8iJM0G",
        "colab_type": "text"
      },
      "source": [
        "**Adding the layers**"
      ]
    },
    {
      "cell_type": "code",
      "metadata": {
        "id": "Q7jlXzHaqtmV",
        "colab_type": "code",
        "colab": {}
      },
      "source": [
        "model.add(Conv2D(32,3,3,input_shape=(224,224,3),activation='relu'))"
      ],
      "execution_count": 43,
      "outputs": []
    },
    {
      "cell_type": "code",
      "metadata": {
        "id": "DwGfKW4Vq2ya",
        "colab_type": "code",
        "colab": {}
      },
      "source": [
        "model.add(MaxPooling2D(pool_size=(2,2)))"
      ],
      "execution_count": 44,
      "outputs": []
    },
    {
      "cell_type": "code",
      "metadata": {
        "id": "0m6-hGyUq7NP",
        "colab_type": "code",
        "colab": {}
      },
      "source": [
        "model.add(Flatten())"
      ],
      "execution_count": 45,
      "outputs": []
    },
    {
      "cell_type": "code",
      "metadata": {
        "id": "NAdqMhPYq_DF",
        "colab_type": "code",
        "colab": {
          "base_uri": "https://localhost:8080/",
          "height": 252
        },
        "outputId": "de3c31bc-56c5-4165-dc57-4c3452be0325"
      },
      "source": [
        "model.summary()"
      ],
      "execution_count": 46,
      "outputs": [
        {
          "output_type": "stream",
          "text": [
            "Model: \"sequential_1\"\n",
            "_________________________________________________________________\n",
            "Layer (type)                 Output Shape              Param #   \n",
            "=================================================================\n",
            "conv2d_1 (Conv2D)            (None, 74, 74, 32)        896       \n",
            "_________________________________________________________________\n",
            "max_pooling2d_1 (MaxPooling2 (None, 37, 37, 32)        0         \n",
            "_________________________________________________________________\n",
            "flatten_2 (Flatten)          (None, 43808)             0         \n",
            "=================================================================\n",
            "Total params: 896\n",
            "Trainable params: 896\n",
            "Non-trainable params: 0\n",
            "_________________________________________________________________\n"
          ],
          "name": "stdout"
        }
      ]
    },
    {
      "cell_type": "code",
      "metadata": {
        "id": "e59jiXOTrAIE",
        "colab_type": "code",
        "colab": {}
      },
      "source": [
        "model.add(Dense(224,activation='relu'))"
      ],
      "execution_count": 54,
      "outputs": []
    },
    {
      "cell_type": "code",
      "metadata": {
        "id": "3t3b4KmmrIL6",
        "colab_type": "code",
        "colab": {}
      },
      "source": [
        "model.add(Dense(2,activation='softmax'))"
      ],
      "execution_count": 55,
      "outputs": []
    },
    {
      "cell_type": "code",
      "metadata": {
        "id": "q0yzckASrWI_",
        "colab_type": "code",
        "colab": {}
      },
      "source": [
        "model.compile(optimizer='adam',loss='categorical_crossentropy',metrics=['accuracy'])"
      ],
      "execution_count": 56,
      "outputs": []
    },
    {
      "cell_type": "code",
      "metadata": {
        "id": "9b4oggcGrcGb",
        "colab_type": "code",
        "colab": {
          "base_uri": "https://localhost:8080/",
          "height": 319
        },
        "outputId": "dcb1c53a-442d-4186-8c26-8ad9157f2c2d"
      },
      "source": [
        "model.summary()"
      ],
      "execution_count": 57,
      "outputs": [
        {
          "output_type": "stream",
          "text": [
            "Model: \"sequential_1\"\n",
            "_________________________________________________________________\n",
            "Layer (type)                 Output Shape              Param #   \n",
            "=================================================================\n",
            "conv2d_1 (Conv2D)            (None, 74, 74, 32)        896       \n",
            "_________________________________________________________________\n",
            "max_pooling2d_1 (MaxPooling2 (None, 37, 37, 32)        0         \n",
            "_________________________________________________________________\n",
            "flatten_2 (Flatten)          (None, 43808)             0         \n",
            "_________________________________________________________________\n",
            "dense_1 (Dense)              (None, 224)               9813216   \n",
            "_________________________________________________________________\n",
            "dense_2 (Dense)              (None, 2)                 450       \n",
            "=================================================================\n",
            "Total params: 9,814,562\n",
            "Trainable params: 9,814,562\n",
            "Non-trainable params: 0\n",
            "_________________________________________________________________\n"
          ],
          "name": "stdout"
        }
      ]
    },
    {
      "cell_type": "markdown",
      "metadata": {
        "id": "zThUCoymrkWZ",
        "colab_type": "text"
      },
      "source": [
        "**IMPORTING THE DATASET**"
      ]
    },
    {
      "cell_type": "code",
      "metadata": {
        "id": "3YXm-Ot-rdbc",
        "colab_type": "code",
        "colab": {
          "base_uri": "https://localhost:8080/",
          "height": 121
        },
        "outputId": "ee2de8b6-7e79-460f-b846-aed688ab149e"
      },
      "source": [
        "#Dataset uploaded through Drive\n",
        "from google.colab import drive\n",
        "drive.mount('/content/drive/')"
      ],
      "execution_count": 7,
      "outputs": [
        {
          "output_type": "stream",
          "text": [
            "Go to this URL in a browser: https://accounts.google.com/o/oauth2/auth?client_id=947318989803-6bn6qk8qdgf4n4g3pfee6491hc0brc4i.apps.googleusercontent.com&redirect_uri=urn%3aietf%3awg%3aoauth%3a2.0%3aoob&response_type=code&scope=email%20https%3a%2f%2fwww.googleapis.com%2fauth%2fdocs.test%20https%3a%2f%2fwww.googleapis.com%2fauth%2fdrive%20https%3a%2f%2fwww.googleapis.com%2fauth%2fdrive.photos.readonly%20https%3a%2f%2fwww.googleapis.com%2fauth%2fpeopleapi.readonly\n",
            "\n",
            "Enter your authorization code:\n",
            "··········\n",
            "Mounted at /content/drive/\n"
          ],
          "name": "stdout"
        }
      ]
    },
    {
      "cell_type": "code",
      "metadata": {
        "id": "i2Gwg4I2r0Kf",
        "colab_type": "code",
        "colab": {}
      },
      "source": [
        "train_path = \"/content/drive/My Drive/building dat/train\"\n",
        "test_path = \"/content/drive/My Drive/building dat/test\""
      ],
      "execution_count": 8,
      "outputs": []
    },
    {
      "cell_type": "markdown",
      "metadata": {
        "id": "tx0Avbt9J2lD",
        "colab_type": "text"
      },
      "source": [
        "**Preprocessing the Image Data**"
      ]
    },
    {
      "cell_type": "code",
      "metadata": {
        "id": "1jf9QjdssHzY",
        "colab_type": "code",
        "colab": {}
      },
      "source": [
        "from keras.preprocessing.image import ImageDataGenerator\n",
        "train_data = ImageDataGenerator(rescale = 1./255,\n",
        "                                shear_range = 0.2,\n",
        "                                zoom_range = 0.2,\n",
        "                                horizontal_flip = True)"
      ],
      "execution_count": 9,
      "outputs": []
    },
    {
      "cell_type": "code",
      "metadata": {
        "id": "f44z5fDosO4T",
        "colab_type": "code",
        "colab": {}
      },
      "source": [
        "test_datagen = ImageDataGenerator(rescale = 1./255)"
      ],
      "execution_count": 10,
      "outputs": []
    },
    {
      "cell_type": "code",
      "metadata": {
        "id": "EGCx5Y71sbMG",
        "colab_type": "code",
        "colab": {
          "base_uri": "https://localhost:8080/",
          "height": 50
        },
        "outputId": "9f4d24bd-f2cd-454f-9746-48946b240eb0"
      },
      "source": [
        "training_dataset = train_data.flow_from_directory(\"/content/drive/My Drive/building dat/train\", target_size=(224,224),batch_size=32,\n",
        "                                                  class_mode = 'categorical')\n",
        "\n",
        "test_dataset = train_data.flow_from_directory(\"/content/drive/My Drive/building dat/test\", target_size=(224,224),batch_size=32,\n",
        "                                                  class_mode = 'categorical')"
      ],
      "execution_count": 11,
      "outputs": [
        {
          "output_type": "stream",
          "text": [
            "Found 350 images belonging to 2 classes.\n",
            "Found 150 images belonging to 2 classes.\n"
          ],
          "name": "stdout"
        }
      ]
    },
    {
      "cell_type": "code",
      "metadata": {
        "id": "1CUuC7C5sg4a",
        "colab_type": "code",
        "colab": {
          "base_uri": "https://localhost:8080/",
          "height": 34
        },
        "outputId": "a5334306-f578-407b-e39d-a89df729ad35"
      },
      "source": [
        "print(training_dataset.class_indices)"
      ],
      "execution_count": 12,
      "outputs": [
        {
          "output_type": "stream",
          "text": [
            "{'bad': 0, 'good': 1}\n"
          ],
          "name": "stdout"
        }
      ]
    },
    {
      "cell_type": "code",
      "metadata": {
        "id": "P2Yly-hNsr7J",
        "colab_type": "code",
        "colab": {
          "base_uri": "https://localhost:8080/",
          "height": 34
        },
        "outputId": "0484258f-845e-42a1-943f-7bd886b9cda0"
      },
      "source": [
        "print(test_dataset.class_indices)"
      ],
      "execution_count": 13,
      "outputs": [
        {
          "output_type": "stream",
          "text": [
            "{'bad': 0, 'good': 1}\n"
          ],
          "name": "stdout"
        }
      ]
    },
    {
      "cell_type": "markdown",
      "metadata": {
        "id": "LdXGbvy0s8l4",
        "colab_type": "text"
      },
      "source": [
        "**Train and Test the Model**"
      ]
    },
    {
      "cell_type": "code",
      "metadata": {
        "id": "QH8Zw26Csz5B",
        "colab_type": "code",
        "colab": {
          "base_uri": "https://localhost:8080/",
          "height": 202
        },
        "outputId": "336faf0d-9205-49bd-bbfe-4cf7e7f44b7f"
      },
      "source": [
        "model.fit_generator(training_dataset,\n",
        "                    validation_data = test_dataset,\n",
        "                    epochs = 5,\n",
        "                    steps_per_epoch = len(training_dataset),\n",
        "                    validation_steps = len(test_dataset))"
      ],
      "execution_count": 23,
      "outputs": [
        {
          "output_type": "stream",
          "text": [
            "Epoch 1/5\n",
            "11/11 [==============================] - 206s 19s/step - loss: 8.1420 - accuracy: 0.4600 - val_loss: 1.4867 - val_accuracy: 0.5000\n",
            "Epoch 2/5\n",
            "11/11 [==============================] - 31s 3s/step - loss: 0.7074 - accuracy: 0.6486 - val_loss: 0.9244 - val_accuracy: 0.5200\n",
            "Epoch 3/5\n",
            "11/11 [==============================] - 31s 3s/step - loss: 0.5371 - accuracy: 0.7543 - val_loss: 0.6300 - val_accuracy: 0.5933\n",
            "Epoch 4/5\n",
            "11/11 [==============================] - 31s 3s/step - loss: 0.5290 - accuracy: 0.7657 - val_loss: 0.3836 - val_accuracy: 0.7667\n",
            "Epoch 5/5\n",
            "11/11 [==============================] - 31s 3s/step - loss: 0.4925 - accuracy: 0.7657 - val_loss: 0.8460 - val_accuracy: 0.7400\n"
          ],
          "name": "stdout"
        },
        {
          "output_type": "execute_result",
          "data": {
            "text/plain": [
              "<keras.callbacks.callbacks.History at 0x7f952a56e2e8>"
            ]
          },
          "metadata": {
            "tags": []
          },
          "execution_count": 23
        }
      ]
    },
    {
      "cell_type": "markdown",
      "metadata": {
        "id": "I67oO0X-KE-Y",
        "colab_type": "text"
      },
      "source": [
        "**OPTIMIZATION**"
      ]
    },
    {
      "cell_type": "code",
      "metadata": {
        "id": "5LVdKrbvtSqg",
        "colab_type": "code",
        "colab": {}
      },
      "source": [
        "cnn1 = Sequential([\n",
        "    Conv2D(16, kernel_size=(3, 3), activation='relu',padding='same',input_shape=(224,224,3)),\n",
        "    Conv2D(16, kernel_size=(3, 3), activation='relu',padding='same'),\n",
        "    MaxPooling2D(pool_size=(2, 2),strides=2),\n",
        "    Conv2D(32, kernel_size=(3, 3), activation='relu'),\n",
        "    Conv2D(32, kernel_size=(3, 3), activation='relu'),\n",
        "    MaxPooling2D(pool_size=(2, 2),strides=2),\n",
        "    Flatten(),\n",
        "    Dense(512, activation='relu'),\n",
        "    Dense(10, activation='softmax')\n",
        "])"
      ],
      "execution_count": 58,
      "outputs": []
    },
    {
      "cell_type": "code",
      "metadata": {
        "id": "RZWf_K2aubHf",
        "colab_type": "code",
        "colab": {
          "base_uri": "https://localhost:8080/",
          "height": 454
        },
        "outputId": "8b407c48-9f63-4c06-9128-08561a0d38b3"
      },
      "source": [
        "cnn1.summary()"
      ],
      "execution_count": 59,
      "outputs": [
        {
          "output_type": "stream",
          "text": [
            "Model: \"sequential_2\"\n",
            "_________________________________________________________________\n",
            "Layer (type)                 Output Shape              Param #   \n",
            "=================================================================\n",
            "conv2d_2 (Conv2D)            (None, 224, 224, 16)      448       \n",
            "_________________________________________________________________\n",
            "conv2d_3 (Conv2D)            (None, 224, 224, 16)      2320      \n",
            "_________________________________________________________________\n",
            "max_pooling2d_2 (MaxPooling2 (None, 112, 112, 16)      0         \n",
            "_________________________________________________________________\n",
            "conv2d_4 (Conv2D)            (None, 110, 110, 32)      4640      \n",
            "_________________________________________________________________\n",
            "conv2d_5 (Conv2D)            (None, 108, 108, 32)      9248      \n",
            "_________________________________________________________________\n",
            "max_pooling2d_3 (MaxPooling2 (None, 54, 54, 32)        0         \n",
            "_________________________________________________________________\n",
            "flatten_3 (Flatten)          (None, 93312)             0         \n",
            "_________________________________________________________________\n",
            "dense_3 (Dense)              (None, 512)               47776256  \n",
            "_________________________________________________________________\n",
            "dense_4 (Dense)              (None, 10)                5130      \n",
            "=================================================================\n",
            "Total params: 47,798,042\n",
            "Trainable params: 47,798,042\n",
            "Non-trainable params: 0\n",
            "_________________________________________________________________\n"
          ],
          "name": "stdout"
        }
      ]
    },
    {
      "cell_type": "code",
      "metadata": {
        "id": "L_mkZ3jvuewi",
        "colab_type": "code",
        "colab": {
          "base_uri": "https://localhost:8080/",
          "height": 202
        },
        "outputId": "21584483-e64b-406a-95d9-14a17bb116d3"
      },
      "source": [
        "model.fit_generator(training_dataset,\n",
        "                    validation_data = test_dataset,\n",
        "                    epochs = 5,\n",
        "                    steps_per_epoch = len(training_dataset),\n",
        "                    validation_steps = len(test_dataset))"
      ],
      "execution_count": 60,
      "outputs": [
        {
          "output_type": "stream",
          "text": [
            "Epoch 1/5\n",
            "11/11 [==============================] - 14s 1s/step - loss: 2.3405 - accuracy: 0.4886 - val_loss: 0.8530 - val_accuracy: 0.5000\n",
            "Epoch 2/5\n",
            "11/11 [==============================] - 13s 1s/step - loss: 0.6752 - accuracy: 0.5771 - val_loss: 0.6307 - val_accuracy: 0.6600\n",
            "Epoch 3/5\n",
            "11/11 [==============================] - 13s 1s/step - loss: 0.6050 - accuracy: 0.6800 - val_loss: 0.5613 - val_accuracy: 0.7200\n",
            "Epoch 4/5\n",
            "11/11 [==============================] - 13s 1s/step - loss: 0.5375 - accuracy: 0.7486 - val_loss: 0.5381 - val_accuracy: 0.7600\n",
            "Epoch 5/5\n",
            "11/11 [==============================] - 13s 1s/step - loss: 0.5137 - accuracy: 0.7514 - val_loss: 0.4966 - val_accuracy: 0.7867\n"
          ],
          "name": "stdout"
        },
        {
          "output_type": "execute_result",
          "data": {
            "text/plain": [
              "<tensorflow.python.keras.callbacks.History at 0x7f48e3fb9e10>"
            ]
          },
          "metadata": {
            "tags": []
          },
          "execution_count": 60
        }
      ]
    },
    {
      "cell_type": "markdown",
      "metadata": {
        "id": "T3FdXfxOKMH5",
        "colab_type": "text"
      },
      "source": [
        "EVALUATION"
      ]
    },
    {
      "cell_type": "code",
      "metadata": {
        "id": "fGhulPk6uqDz",
        "colab_type": "code",
        "colab": {
          "base_uri": "https://localhost:8080/",
          "height": 34
        },
        "outputId": "82043da2-5681-44c6-cd99-cfab44e0deff"
      },
      "source": [
        "model.evaluate_generator(test_dataset)"
      ],
      "execution_count": 61,
      "outputs": [
        {
          "output_type": "execute_result",
          "data": {
            "text/plain": [
              "[0.5108011364936829, 0.7866666913032532]"
            ]
          },
          "metadata": {
            "tags": []
          },
          "execution_count": 61
        }
      ]
    },
    {
      "cell_type": "code",
      "metadata": {
        "id": "pfG77LA8vGUh",
        "colab_type": "code",
        "colab": {}
      },
      "source": [
        "import cv2\n",
        "from skimage.transform import resize\n",
        "import numpy as np\n",
        "from tensorflow.keras.models import load_model\n",
        "from keras.preprocessing import image"
      ],
      "execution_count": 69,
      "outputs": []
    },
    {
      "cell_type": "markdown",
      "metadata": {
        "id": "RFPgOc4kM1sV",
        "colab_type": "text"
      },
      "source": [
        "SAVING THE MODEL"
      ]
    },
    {
      "cell_type": "code",
      "metadata": {
        "id": "DxWqGDdIMlXu",
        "colab_type": "code",
        "colab": {}
      },
      "source": [
        "model.save('Detectdefects.h5')"
      ],
      "execution_count": 63,
      "outputs": []
    },
    {
      "cell_type": "markdown",
      "metadata": {
        "id": "SjHw_5V1zMhP",
        "colab_type": "text"
      },
      "source": [
        "**MODEL USING Pre-Trained CNN (VGG16)**\n",
        "To remove data dependency and to improve the accuracy of the model, We created a model using VGG16 (Transfer Learning Concept)"
      ]
    },
    {
      "cell_type": "code",
      "metadata": {
        "id": "2iJXgtv9wrmO",
        "colab_type": "code",
        "colab": {}
      },
      "source": [
        "from keras.layers import Input, Lambda, Dense, Flatten\n",
        "from keras.models import Model\n",
        "from keras.applications.vgg16 import VGG16\n",
        "from keras.applications.vgg16 import preprocess_input\n",
        "from keras.preprocessing import image\n",
        "from glob import glob"
      ],
      "execution_count": 15,
      "outputs": []
    },
    {
      "cell_type": "code",
      "metadata": {
        "id": "8eLYKMlJzkcJ",
        "colab_type": "code",
        "colab": {
          "base_uri": "https://localhost:8080/",
          "height": 50
        },
        "outputId": "f7ea77e0-5c28-4822-91ae-e2dc80d20552"
      },
      "source": [
        "IMAGE_SIZE = [224,224]\n",
        "vgg = VGG16(input_shape = IMAGE_SIZE + [3], weights = 'imagenet', include_top = False)"
      ],
      "execution_count": 16,
      "outputs": [
        {
          "output_type": "stream",
          "text": [
            "Downloading data from https://storage.googleapis.com/tensorflow/keras-applications/vgg16/vgg16_weights_tf_dim_ordering_tf_kernels_notop.h5\n",
            "58892288/58889256 [==============================] - 1s 0us/step\n"
          ],
          "name": "stdout"
        }
      ]
    },
    {
      "cell_type": "code",
      "metadata": {
        "id": "rRPeFEKRzomI",
        "colab_type": "code",
        "colab": {}
      },
      "source": [
        "for layer in vgg.layers:\n",
        "  layer.trainable = False"
      ],
      "execution_count": 17,
      "outputs": []
    },
    {
      "cell_type": "code",
      "metadata": {
        "id": "Yd7NHs1QztZh",
        "colab_type": "code",
        "colab": {}
      },
      "source": [
        "x = Flatten()(vgg.output)\n",
        "prediction = Dense(2, activation= 'softmax')(x)"
      ],
      "execution_count": 18,
      "outputs": []
    },
    {
      "cell_type": "code",
      "metadata": {
        "id": "2qWn_L-6zyow",
        "colab_type": "code",
        "colab": {}
      },
      "source": [
        "modelvgg = Model(inputs = vgg.input, outputs = prediction)"
      ],
      "execution_count": 19,
      "outputs": []
    },
    {
      "cell_type": "code",
      "metadata": {
        "id": "Vn3iiHnY0JDs",
        "colab_type": "code",
        "colab": {
          "base_uri": "https://localhost:8080/",
          "height": 857
        },
        "outputId": "7a0ee9c5-e853-430b-e7e1-2b275185cbc7"
      },
      "source": [
        "modelvgg.summary()"
      ],
      "execution_count": 20,
      "outputs": [
        {
          "output_type": "stream",
          "text": [
            "Model: \"functional_1\"\n",
            "_________________________________________________________________\n",
            "Layer (type)                 Output Shape              Param #   \n",
            "=================================================================\n",
            "input_1 (InputLayer)         [(None, 224, 224, 3)]     0         \n",
            "_________________________________________________________________\n",
            "block1_conv1 (Conv2D)        (None, 224, 224, 64)      1792      \n",
            "_________________________________________________________________\n",
            "block1_conv2 (Conv2D)        (None, 224, 224, 64)      36928     \n",
            "_________________________________________________________________\n",
            "block1_pool (MaxPooling2D)   (None, 112, 112, 64)      0         \n",
            "_________________________________________________________________\n",
            "block2_conv1 (Conv2D)        (None, 112, 112, 128)     73856     \n",
            "_________________________________________________________________\n",
            "block2_conv2 (Conv2D)        (None, 112, 112, 128)     147584    \n",
            "_________________________________________________________________\n",
            "block2_pool (MaxPooling2D)   (None, 56, 56, 128)       0         \n",
            "_________________________________________________________________\n",
            "block3_conv1 (Conv2D)        (None, 56, 56, 256)       295168    \n",
            "_________________________________________________________________\n",
            "block3_conv2 (Conv2D)        (None, 56, 56, 256)       590080    \n",
            "_________________________________________________________________\n",
            "block3_conv3 (Conv2D)        (None, 56, 56, 256)       590080    \n",
            "_________________________________________________________________\n",
            "block3_pool (MaxPooling2D)   (None, 28, 28, 256)       0         \n",
            "_________________________________________________________________\n",
            "block4_conv1 (Conv2D)        (None, 28, 28, 512)       1180160   \n",
            "_________________________________________________________________\n",
            "block4_conv2 (Conv2D)        (None, 28, 28, 512)       2359808   \n",
            "_________________________________________________________________\n",
            "block4_conv3 (Conv2D)        (None, 28, 28, 512)       2359808   \n",
            "_________________________________________________________________\n",
            "block4_pool (MaxPooling2D)   (None, 14, 14, 512)       0         \n",
            "_________________________________________________________________\n",
            "block5_conv1 (Conv2D)        (None, 14, 14, 512)       2359808   \n",
            "_________________________________________________________________\n",
            "block5_conv2 (Conv2D)        (None, 14, 14, 512)       2359808   \n",
            "_________________________________________________________________\n",
            "block5_conv3 (Conv2D)        (None, 14, 14, 512)       2359808   \n",
            "_________________________________________________________________\n",
            "block5_pool (MaxPooling2D)   (None, 7, 7, 512)         0         \n",
            "_________________________________________________________________\n",
            "flatten (Flatten)            (None, 25088)             0         \n",
            "_________________________________________________________________\n",
            "dense (Dense)                (None, 2)                 50178     \n",
            "=================================================================\n",
            "Total params: 14,764,866\n",
            "Trainable params: 50,178\n",
            "Non-trainable params: 14,714,688\n",
            "_________________________________________________________________\n"
          ],
          "name": "stdout"
        }
      ]
    },
    {
      "cell_type": "code",
      "metadata": {
        "id": "L94gTbNyz62_",
        "colab_type": "code",
        "colab": {}
      },
      "source": [
        "modelvgg.compile(\n",
        "    loss = 'categorical_crossentropy',\n",
        "    optimizer = 'adam',\n",
        "    metrics = ['accuracy']\n",
        ")"
      ],
      "execution_count": 21,
      "outputs": []
    },
    {
      "cell_type": "markdown",
      "metadata": {
        "id": "1smBzargK5_8",
        "colab_type": "text"
      },
      "source": [
        "TRAINING THE MODEL"
      ]
    },
    {
      "cell_type": "code",
      "metadata": {
        "id": "cV_c1s1A0MR0",
        "colab_type": "code",
        "colab": {
          "base_uri": "https://localhost:8080/",
          "height": 272
        },
        "outputId": "0ae77277-74c9-43fc-df2f-0bd2f6438a0d"
      },
      "source": [
        "modelvgg.fit_generator(\n",
        "    training_dataset,\n",
        "    validation_data = test_dataset,\n",
        "    epochs = 5,\n",
        "    steps_per_epoch = len(training_dataset),\n",
        "    validation_steps = len(test_dataset)\n",
        ")"
      ],
      "execution_count": 22,
      "outputs": [
        {
          "output_type": "stream",
          "text": [
            "WARNING:tensorflow:From <ipython-input-22-330f321e4951>:6: Model.fit_generator (from tensorflow.python.keras.engine.training) is deprecated and will be removed in a future version.\n",
            "Instructions for updating:\n",
            "Please use Model.fit, which supports generators.\n",
            "Epoch 1/5\n",
            "11/11 [==============================] - 254s 23s/step - loss: 0.5661 - accuracy: 0.7571 - val_loss: 0.2681 - val_accuracy: 0.9067\n",
            "Epoch 2/5\n",
            "11/11 [==============================] - 244s 22s/step - loss: 0.2390 - accuracy: 0.9057 - val_loss: 0.1678 - val_accuracy: 0.9400\n",
            "Epoch 3/5\n",
            "11/11 [==============================] - 247s 22s/step - loss: 0.1577 - accuracy: 0.9429 - val_loss: 0.1614 - val_accuracy: 0.9333\n",
            "Epoch 4/5\n",
            "11/11 [==============================] - 245s 22s/step - loss: 0.1087 - accuracy: 0.9571 - val_loss: 0.1266 - val_accuracy: 0.9600\n",
            "Epoch 5/5\n",
            "11/11 [==============================] - 249s 23s/step - loss: 0.0740 - accuracy: 0.9714 - val_loss: 0.1490 - val_accuracy: 0.9467\n"
          ],
          "name": "stdout"
        },
        {
          "output_type": "execute_result",
          "data": {
            "text/plain": [
              "<tensorflow.python.keras.callbacks.History at 0x7f48e7c16358>"
            ]
          },
          "metadata": {
            "tags": []
          },
          "execution_count": 22
        }
      ]
    },
    {
      "cell_type": "code",
      "metadata": {
        "id": "YM_PJr9X0Q68",
        "colab_type": "code",
        "colab": {
          "base_uri": "https://localhost:8080/",
          "height": 104
        },
        "outputId": "10b55fa9-a729-4b75-e1dc-cd3ff82fd762"
      },
      "source": [
        "modelvgg.evaluate_generator(test_dataset)"
      ],
      "execution_count": 23,
      "outputs": [
        {
          "output_type": "stream",
          "text": [
            "WARNING:tensorflow:From <ipython-input-23-bd6cd478e503>:1: Model.evaluate_generator (from tensorflow.python.keras.engine.training) is deprecated and will be removed in a future version.\n",
            "Instructions for updating:\n",
            "Please use Model.evaluate, which supports generators.\n"
          ],
          "name": "stdout"
        },
        {
          "output_type": "execute_result",
          "data": {
            "text/plain": [
              "[0.14334934949874878, 0.95333331823349]"
            ]
          },
          "metadata": {
            "tags": []
          },
          "execution_count": 23
        }
      ]
    },
    {
      "cell_type": "markdown",
      "metadata": {
        "id": "nx58xz_KNJly",
        "colab_type": "text"
      },
      "source": [
        "Saving the VGG Model"
      ]
    },
    {
      "cell_type": "code",
      "metadata": {
        "id": "NWezHQCG6HcN",
        "colab_type": "code",
        "colab": {}
      },
      "source": [
        "modelvgg.save('Cnn.h5')"
      ],
      "execution_count": 78,
      "outputs": []
    },
    {
      "cell_type": "markdown",
      "metadata": {
        "id": "8iWPi5qLLP2D",
        "colab_type": "text"
      },
      "source": [
        "Predictions"
      ]
    },
    {
      "cell_type": "code",
      "metadata": {
        "id": "0wn--fsQ5nz4",
        "colab_type": "code",
        "colab": {}
      },
      "source": [
        "import cv2\n",
        "from skimage.transform import resize\n",
        "import numpy as np\n",
        "from tensorflow.keras.models import load_model\n",
        "from keras.preprocessing import image\n",
        "def predictvgg(path):\n",
        "  img = image.load_img(path, target_size=(224,224))\n",
        "  img = np.asarray(img)\n",
        "  img = np.expand_dims(img, axis=0)\n",
        "  #img_data = preprocess_input(x)\n",
        "  classes = modelvgg.predict(img)\n",
        "  if classes[0][0]>classes[0][1]:\n",
        "    print('Building Defective')\n",
        "  else:\n",
        "    print('Building Not Defective')\n"
      ],
      "execution_count": 76,
      "outputs": []
    },
    {
      "cell_type": "code",
      "metadata": {
        "id": "mdWNKAc5e1tT",
        "colab_type": "code",
        "colab": {}
      },
      "source": [
        "def predict(path):\n",
        "  img = image.load_img(path, target_size=(224,224))\n",
        "  x = image.img_to_array(img)\n",
        "  x = np.expand_dims(x, axis = 0)\n",
        "  #img_data = preprocess_input(x)\n",
        "  classes = model.predict(x)\n",
        "  print(\"Evaluating using CNN\")\n",
        "  res = np.argmax(model.predict(x), axis=-1)\n",
        "  if res[0]==0:\n",
        "    print('Building Defective')\n",
        "  else:\n",
        "    print('Building Not Defective')\n",
        "  print()\n",
        "\n",
        " "
      ],
      "execution_count": 77,
      "outputs": []
    },
    {
      "cell_type": "code",
      "metadata": {
        "id": "t3uG1kmifZco",
        "colab_type": "code",
        "colab": {
          "base_uri": "https://localhost:8080/",
          "height": 34
        },
        "outputId": "af0688a9-941a-4048-a878-052daddc5856"
      },
      "source": [
        "predictvgg('39.jpg')"
      ],
      "execution_count": 74,
      "outputs": [
        {
          "output_type": "stream",
          "text": [
            "Building Defective\n"
          ],
          "name": "stdout"
        }
      ]
    },
    {
      "cell_type": "code",
      "metadata": {
        "id": "0ZmVoJWCfr3S",
        "colab_type": "code",
        "colab": {}
      },
      "source": [
        ""
      ],
      "execution_count": null,
      "outputs": []
    }
  ]
}